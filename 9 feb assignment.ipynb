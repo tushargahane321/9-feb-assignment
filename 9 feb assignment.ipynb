{
 "cells": [
  {
   "cell_type": "code",
   "execution_count": null,
   "id": "23c8bca4-d3ba-4a8b-ba91-1ad1a718bae6",
   "metadata": {},
   "outputs": [],
   "source": [
    "Q1, Create a vehicle class with an init method having instance variables as name_of_vehicle, max_speed\n",
    "and average_of_vehicle."
   ]
  },
  {
   "cell_type": "code",
   "execution_count": 2,
   "id": "244307bf-a11d-4173-b1d3-853805d086c6",
   "metadata": {},
   "outputs": [],
   "source": [
    "class vehicle:\n",
    "    def __init__(self,name_of_vehicle , max_speed , average_of_vehicle):\n",
    "        self.name_of_vehicle = name_of_vehicle\n",
    "        self.max_speed = max_speed\n",
    "        self.average_of_vehicle = average_of_vehicle"
   ]
  },
  {
   "cell_type": "markdown",
   "id": "3b94a552-3e31-44eb-94bb-4b9423e8e431",
   "metadata": {},
   "source": [
    "Q2. Create a child class car from the vehicle class created in Que 1, which will inherit the vehicle class.\n",
    "Create a method named seating_capacity which takes capacity as an argument and returns the name of\n",
    "the vehicle and its seating capacity."
   ]
  },
  {
   "cell_type": "code",
   "execution_count": 3,
   "id": "b6ede327-1386-480f-9ca6-4950c99658cf",
   "metadata": {},
   "outputs": [],
   "source": [
    "class car(vehicle):\n",
    "    def seating_capacity(self, seat_capacity):\n",
    "        self.vehicle_seats = seat_capacity\n",
    "        return self.name_of_vehicle , seat_capacity"
   ]
  },
  {
   "cell_type": "code",
   "execution_count": 4,
   "id": "334e17cb-eddd-4ae4-9f24-1789b1b6befe",
   "metadata": {},
   "outputs": [
    {
     "name": "stdout",
     "output_type": "stream",
     "text": [
      "('ferari', 2)\n"
     ]
    }
   ],
   "source": [
    "tushar = car(\"ferari\" , 280 , 50)\n",
    "print(tushar.seating_capacity(2))"
   ]
  },
  {
   "cell_type": "code",
   "execution_count": null,
   "id": "c8ac230a-6e5a-4425-8ef3-f23f91ad9738",
   "metadata": {},
   "outputs": [],
   "source": [
    "Q3. What is multiple inheritance? Write a python code to demonstrate multiple inheritance."
   ]
  },
  {
   "cell_type": "markdown",
   "id": "969c4170-4b97-489b-a045-b8f44c6dd9fd",
   "metadata": {},
   "source": [
    "nswer : Multiple inheritance is a feature of object-oriented programming languages that allows a class to inherit from multiple parent classes. This allows a class to inherit attributes and behaviors from multiple parent classes, which can make it easier to reuse code and create more complex data types."
   ]
  },
  {
   "cell_type": "code",
   "execution_count": null,
   "id": "b3664573-f19a-4694-826c-48e6ba1b19c7",
   "metadata": {},
   "outputs": [],
   "source": [
    "Here's an example of multiple inheritance in Python:"
   ]
  },
  {
   "cell_type": "code",
   "execution_count": 9,
   "id": "8db4a03b-5911-4e46-af99-decf918dd7e4",
   "metadata": {},
   "outputs": [
    {
     "name": "stdout",
     "output_type": "stream",
     "text": [
      "tommy\n",
      "tushar\n",
      "i am an animal.\n",
      "Woof!\n"
     ]
    }
   ],
   "source": [
    "class Animal:\n",
    "    def __init__(self,name):\n",
    "        self.name = name\n",
    "    \n",
    "    def speak(self):\n",
    "        return \"i am an animal.\"\n",
    "\n",
    "class pet:\n",
    "    def __init__(self,name,owner):\n",
    "        self.name = name\n",
    "        self.owner = owner\n",
    "    \n",
    "    def speak(self):\n",
    "        return \"i am a pet.\"\n",
    "\n",
    "class dog(Animal, pet):\n",
    "    def __init__(self, name ,owner):\n",
    "        Animal.__init__(self, name)\n",
    "        pet.__init__(self, name, owner)\n",
    "        \n",
    "    def bark(self):\n",
    "        return \"Woof!\"\n",
    "dog = dog(\"tommy\", \"tushar\")\n",
    "print(dog.name) \n",
    "print(dog.owner)\n",
    "print(dog.speak()) \n",
    "print(dog.bark()) "
   ]
  },
  {
   "cell_type": "markdown",
   "id": "ad87a563-db50-471f-8a7e-fd1f5e5fbc76",
   "metadata": {},
   "source": [
    "In this example, the Animal class represents an animal, and the Pet class represents a pet. The Dog class is a subclass of both Animal and Pet, and inherits the attributes and behaviors from both parent classes. When a method is present in both parent classes, the method from the first parent class in the inheritance list is used. In this case, the speak method from the Pet class is used, because it appears first in the inheritance list."
   ]
  },
  {
   "cell_type": "code",
   "execution_count": null,
   "id": "7ddb6525-258a-4b0d-872d-ec3b3f67743c",
   "metadata": {},
   "outputs": [],
   "source": [
    "Q4. What are getter and setter in python? Create a class and create a getter and a setter method in this\n",
    "class."
   ]
  },
  {
   "cell_type": "markdown",
   "id": "016aaf78-9811-4c3a-873f-7fdbeb15d3bd",
   "metadata": {},
   "source": [
    "Answer .Getters and setters are methods that allow you to access and modify the attributes of an object. In Python, they are commonly used to control access to an object's attributes, ensure that data is stored and retrieved in a consistent way, and enforce constraints on the type and value of data stored in an object's attributes."
   ]
  },
  {
   "cell_type": "markdown",
   "id": "8e2cfa16-9f01-4207-ae4f-1978030ab83a",
   "metadata": {},
   "source": [
    "Here's an example of a class with a getter and a setter method in Python:\n",
    "\n",
    "In this example, the Circle class has a radius attribute, which is used to store the radius of a circle. The get_radius method returns the value of the radius attribute, while the set_radius method sets the value of the radius attribute. The set_radius method also checks that the value passed to it is positive and raises a ValueError if it is not. This allows you to enforce constraints on the type and value of the data stored in the radius attribute."
   ]
  },
  {
   "cell_type": "code",
   "execution_count": 10,
   "id": "7c36e2d8-2e9c-472e-966c-4e7a877fbec0",
   "metadata": {},
   "outputs": [
    {
     "name": "stdout",
     "output_type": "stream",
     "text": [
      "10\n",
      "20\n"
     ]
    }
   ],
   "source": [
    "class Circle:\n",
    "    def __init__(self, radius):\n",
    "        self.radius = radius\n",
    "\n",
    "    def get_radius(self):\n",
    "        return self.radius\n",
    "\n",
    "    def set_radius(self, radius):\n",
    "        if radius <= 0:\n",
    "            raise ValueError(\"Radius must be positive.\")\n",
    "        self.radius = radius\n",
    "\n",
    "circle = Circle(10)\n",
    "print(circle.get_radius()) \n",
    "\n",
    "circle.set_radius(20)\n",
    "print(circle.get_radius()) "
   ]
  },
  {
   "cell_type": "code",
   "execution_count": null,
   "id": "807ebdb6-5fb7-4bef-b469-1808f313a19c",
   "metadata": {},
   "outputs": [],
   "source": [
    "Q5.What is method overriding in python? Write a python code to demonstrate method overriding."
   ]
  },
  {
   "cell_type": "markdown",
   "id": "cc098385-338c-4f36-b9d4-6f72f518b9f4",
   "metadata": {},
   "source": [
    "Method Overriding is a feature in object-oriented programming that allows a subclass or derived class to provide a different implementation of a method that is already provided by its superclass or base class. The idea behind method overriding is to allow subclasses to specialize the behavior defined in their superclass by providing a different implementation of the method.\n",
    "\n",
    "Here's a simple example of method overriding in Python:\n",
    "\n",
    "In this example, the Dog class overrides the make_sound method of the Animal class to provide a different implementation. When the make_sound method of the dog object is called, the implementation of the method in the Dog class is executed, not the implementation in the Animal class."
   ]
  },
  {
   "cell_type": "code",
   "execution_count": 11,
   "id": "f6924bc1-d6a5-4d86-8dda-2e27a7bfd2d2",
   "metadata": {},
   "outputs": [
    {
     "name": "stdout",
     "output_type": "stream",
     "text": [
      "Dog barks\n"
     ]
    }
   ],
   "source": [
    "class Animal:\n",
    "    def make_sound(self):\n",
    "        print(\"Animal makes a sound\")\n",
    "\n",
    "class Dog(Animal):\n",
    "    def make_sound(self):\n",
    "        print(\"Dog barks\")\n",
    "\n",
    "dog = Dog()\n",
    "dog.make_sound()"
   ]
  },
  {
   "cell_type": "code",
   "execution_count": null,
   "id": "bd34ca20-f33f-4189-aa96-7f1b6bf5d978",
   "metadata": {},
   "outputs": [],
   "source": []
  }
 ],
 "metadata": {
  "kernelspec": {
   "display_name": "Python 3 (ipykernel)",
   "language": "python",
   "name": "python3"
  },
  "language_info": {
   "codemirror_mode": {
    "name": "ipython",
    "version": 3
   },
   "file_extension": ".py",
   "mimetype": "text/x-python",
   "name": "python",
   "nbconvert_exporter": "python",
   "pygments_lexer": "ipython3",
   "version": "3.10.8"
  }
 },
 "nbformat": 4,
 "nbformat_minor": 5
}
